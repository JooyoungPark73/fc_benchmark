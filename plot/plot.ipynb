{
 "cells": [
  {
   "cell_type": "code",
   "execution_count": 10,
   "metadata": {},
   "outputs": [],
   "source": [
    "import pandas as pd\n",
    "import numpy as np\n",
    "import matplotlib.pyplot as plt\n",
    "import matplotlib.ticker as ticker\n",
    "from functools import reduce\n",
    "from csv import writer as csvwriter\n",
    "import gc\n",
    "import json\n"
   ]
  },
  {
   "cell_type": "code",
   "execution_count": 11,
   "metadata": {},
   "outputs": [],
   "source": [
    "def extract_experiment_memory(lang: str, expr: str):\n",
    "    df = pd.read_csv(f\"out/{lang}_{expr}_memory.csv\")\n",
    "    df[\"Invoke\"] = df[\"Invoke\"] - df[\"Server\"]\n",
    "    df = df.mean().astype(int).to_frame().T\n",
    "    df.insert(0, \"Experiment\", expr)\n",
    "    df.insert(0, \"Language\", lang)\n",
    "    # Reshape the DataFrame\n",
    "    df.columns = ['Language', 'Experiment', 'Server', 'Invoke']\n",
    "    df = df.reset_index(drop=True)\n",
    "    \n",
    "    return df\n",
    "\n",
    "def extract_reap_experiment_memory(lang: str, expr: str):\n",
    "    df = pd.read_csv(f\"out/reap_{lang}_{expr}_memory.csv\")\n",
    "    df = df.mean().astype(int).to_frame().T\n",
    "    df.insert(0, \"Experiment\", expr)\n",
    "    df.insert(0, \"Language\", lang)\n",
    "    # Reshape the DataFrame\n",
    "    df.columns = ['Language', 'Experiment', 'Invoke']\n",
    "    df = df.reset_index(drop=True)\n",
    "    \n",
    "    return df\n",
    "\n",
    "def extract_baseline_memory(expr: str):\n",
    "    df = pd.read_csv(f\"out/custom_{expr}_memory.csv\")\n",
    "    df = df.mean().astype(int).to_frame().T\n",
    "    df.insert(0, \"Experiment\", expr)\n",
    "    # Reshape the DataFrame\n",
    "    df = df.reset_index(drop=True)\n",
    "    return df"
   ]
  },
  {
   "cell_type": "code",
   "execution_count": 12,
   "metadata": {},
   "outputs": [
    {
     "name": "stdout",
     "output_type": "stream",
     "text": [
      "  Experiment  base  tmux\n",
      "0       base  1344  1332\n",
      "  Experiment    get    put  get_put   init  init_get  init_get_put\n",
      "0         s3  12432  11945    12274  10430     12464         12693\n",
      "  Language       Experiment  Server  Invoke\n",
      "0   python  helloworld_grpc    1833    1114\n",
      "1   python   helloworld_tcp    1305     749\n",
      "2     node  helloworld_grpc    1420    2132\n",
      "3     node   helloworld_tcp    1315    1492\n",
      "4      cpp  helloworld_grpc    1682    1386\n",
      "5      cpp   helloworld_tcp    1331     166\n",
      "  Language       Experiment  Server  Invoke\n",
      "0   python  helloworld_grpc    1833    1114\n",
      "1   python   helloworld_tcp    1305     749\n",
      "2   python              aes    1838    1225\n",
      "3   python     image_rotate    2094   13177\n",
      "4   python       lr_serving    1875    1936\n"
     ]
    }
   ],
   "source": [
    "baseline_vm = extract_baseline_memory(\"base\")\n",
    "print(baseline_vm)\n",
    "baseline_s3 = extract_baseline_memory(\"s3\")\n",
    "print(baseline_s3)\n",
    "compare_languages = pd.concat([extract_experiment_memory(lang, expr) for lang in [\"python\", \"node\", \"cpp\"] for expr in [\"helloworld_grpc\", \"helloworld_tcp\"]], ignore_index=True)\n",
    "python_workload = pd.concat([extract_experiment_memory(lang, expr) for lang in [\"python\"] for expr in [\"helloworld_grpc\", \"helloworld_tcp\", \"aes\", \"image_rotate\", \"lr_serving\"]], ignore_index=True)\n",
    "\n",
    "print(compare_languages)\n",
    "print(python_workload)"
   ]
  },
  {
   "cell_type": "code",
   "execution_count": 13,
   "metadata": {},
   "outputs": [
    {
     "name": "stdout",
     "output_type": "stream",
     "text": [
      "  Language       Experiment  Invoke\n",
      "0   python  helloworld_grpc    2471\n",
      "1   python   helloworld_tcp    1315\n",
      "2   python              aes    2563\n",
      "3   python     image_rotate   14338\n",
      "4   python       lr_serving    3370\n"
     ]
    }
   ],
   "source": [
    "# baseline_vm = extract_baseline_memory(\"base\")\n",
    "# print(baseline_vm)\n",
    "# baseline_s3 = extract_baseline_memory(\"s3\")\n",
    "# print(baseline_s3)\n",
    "# compare_languages = pd.concat([extract_experiment_memory(lang, expr) for lang in [\"python\", \"node\", \"cpp\"] for expr in [\"helloworld_grpc\", \"helloworld_tcp\"]], ignore_index=True)\n",
    "python_workload = pd.concat([extract_reap_experiment_memory(lang, expr) for lang in [\"python\"] for expr in [\"helloworld_grpc\", \"helloworld_tcp\", \"aes\", \"image_rotate\", \"lr_serving\"]], ignore_index=True)\n",
    "\n",
    "# print(compare_languages)\n",
    "print(python_workload)"
   ]
  },
  {
   "cell_type": "code",
   "execution_count": null,
   "metadata": {},
   "outputs": [],
   "source": []
  }
 ],
 "metadata": {
  "kernelspec": {
   "display_name": "Python 3",
   "language": "python",
   "name": "python3"
  },
  "language_info": {
   "codemirror_mode": {
    "name": "ipython",
    "version": 3
   },
   "file_extension": ".py",
   "mimetype": "text/x-python",
   "name": "python",
   "nbconvert_exporter": "python",
   "pygments_lexer": "ipython3",
   "version": "3.10.12"
  }
 },
 "nbformat": 4,
 "nbformat_minor": 2
}
